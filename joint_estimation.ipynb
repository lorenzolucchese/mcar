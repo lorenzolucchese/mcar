{
 "cells": [
  {
   "cell_type": "markdown",
   "metadata": {},
   "source": [
    "# Joint estimation of parameters\n",
    "\n",
    "Iterative procedure to jointly fit MCAR drift parameter $\\mathbf{A}$ and driving Levy parameters $(b, \\Sigma)$ from $\\mathbb{Y}_{\\mathcal{P}} = \\{\\mathbf{Y}_s,\\ s\\in\\mathcal{P}\\}$.\n",
    "\n",
    "We start by fixing $\\mathbf{\\hat{b}} = \\mathbf{0}$ (note the choice of $\\Sigma$ does not affect the estimation of $\\mathbf{A}$) and:\n",
    "1. Estimate $\\mathbf{\\hat{A}}$ using $\\mathbf{\\hat{b}}$;\n",
    "\n",
    "\n",
    "2. Recover the increments of the background driving Levy process $\\{\\Delta \\mathbf{L}_s (\\mathbf{\\hat{A}}),\\ s\\in\\mathcal{P}\\}$ using $\\mathbf{\\hat{A}}$ and estimate:\n",
    "    \n",
    "    \n",
    "    - $\\mathbf{\\mu} := \\mathbb{E}[\\mathbf{L}_1]$ from $\\{\\Delta \\mathbf{L}_s,\\ s\\in\\mathcal{P}\\}$ either by setting $\\mathbf{hat{\\mu}} = t^{-1} \\mathbf{L}_t (\\mathbf{\\hat{A}})$ or $\\mathbf{\\hat{\\mu}} = \\hat{A}_p \\left(\\frac{1}{|\\mathcal{P}|} \\sum_{s\\in\\mathcal{P}} \\mathbf{Y}_s\\right)$;\n",
    "    \n",
    "    \n",
    "    - $\\Sigma$ and $\\displaystyle \\mathbf{f}:=\\int_{\\|\\mathbf{z}\\|>1} \\mathbf{z} F(d\\mathbf{z})$ from $\\{\\Delta \\mathbf{L}_s,\\ s\\in\\mathcal{P}\\}$ by applying (Gegler, 2011);\n",
    "    \n",
    "    \n",
    "    - set $\\mathbf{\\hat{b}} = \\mathbf{\\hat\\mu} - \\mathbf{\\hat{f}}$.\n",
    "\n",
    "\n",
    "3. Repeat 1 and 2 until convergence criterion is met.\n",
    "\n",
    "Note to estimate $\\mathbf{\\mu}$ we require $t$ (time horizon) to be quite large as this relies on the statistic $t^{-1} \\mathbf{L}_t$ (where $\\mathbf{L}_t$ is recovered...). Might be better to use a \"method of moments estimator\" relying on the mean of $\\mathbb{Y}$ and $\\mathbf{A}$ to estimate $\\mathbf{\\mu}$.\n",
    "\n",
    "In the general case of a stationary MCAR process we have that the state space mean is\n",
    "$$ \\mathbb{E}[\\mathbf{X}_s] = - \\mathcal{A}_{\\mathbf{A}}^{-1} \\mathcal{E} \\mathbf{\\mu}, $$\n",
    "which implies $\\mathbb{E}[D^j\\mathbf{Y}_s] = 0$ for $j=1, \\ldots, p-1$ and $\\mathbb{E}[\\mathbf{Y}_s] = {A}_p^{-1} \\mathbf{\\mu}$. Thus we can estimate\n",
    "$$\\mathbf{\\hat{\\mu}} = \\hat{A}_p \\left(\\frac{1}{|\\mathcal{P}|} \\sum_{s\\in\\mathcal{P}} \\mathbf{Y}_s\\right).$$\n",
    "\n",
    "The above procedure can be modified when some of the parameters ($\\mathbf{A}, \\mathbf{b}, \\Sigma$ or $\\mathbf{f}$) are known/we have strong priors on their values by simply keeping them fixed."
   ]
  },
  {
   "cell_type": "markdown",
   "metadata": {},
   "source": [
    "In the following,\n",
    "$$ \\mathbf{\\mu} = \\mathbb{E}[\\mathbf{L}_1] = \\mathbf{b} + \\int_{\\|\\mathbf{z}\\|>1} \\mathbf{z} F(d\\mathbf{z}) = \\mathbf{\\tilde{b}} + \\int_{\\mathbb{R}^d} \\mathbf{z} F(d\\mathbf{z}),$$\n",
    "thus \n",
    "$$ \\mathbf{\\tilde{b}} = \\mathbf{b} - \\int_{\\|\\mathbf{z}\\|\\leq 1} \\mathbf{z} F(d\\mathbf{z}).$$\n",
    "\n",
    "where $\\mathbf{b}$ is the drift parameter with truncation function $\\tau(z) = 1_{\\{\\|z\\|\\leq 1\\}}$, $\\mathbf{\\tilde{b}}$ is the drift parameter with truncation function $\\tau(z) \\equiv 0$ and $\\mathbf{\\mu}$ is the drift parameter with truncation function $\\tau(z) \\equiv 1$."
   ]
  },
  {
   "cell_type": "code",
   "execution_count": 1,
   "metadata": {},
   "outputs": [],
   "source": [
    "%load_ext autoreload\n",
    "%autoreload 2"
   ]
  },
  {
   "cell_type": "code",
   "execution_count": 2,
   "metadata": {},
   "outputs": [],
   "source": [
    "from simulate_mcar import MCAR_A, gamma_increments, asymm_gamma_increments, simulate_MCAR_stat_distr_approx, simulate_MCAR_approx, simulate_MCAR_compound_poisson, simulate_MCAR_stat_distr_compound_poisson\n",
    "from estimate_mcar import estimate_MCAR\n",
    "import numpy as np\n",
    "import scipy\n",
    "from functools import partial"
   ]
  },
  {
   "cell_type": "markdown",
   "metadata": {},
   "source": [
    "## OU process"
   ]
  },
  {
   "cell_type": "code",
   "execution_count": 21,
   "metadata": {},
   "outputs": [],
   "source": [
    "# OU parameters\n",
    "d = 1\n",
    "p = 2\n",
    "\n",
    "# build state space autoregressive matrix\n",
    "AA = [np.array([[1., 0.], [0., 2.]])]\n",
    "AA= [np.array([[1.]]), np.array([[2.]])]\n",
    "A_AA = MCAR_A(AA)\n",
    "\n",
    "# check eigenvalues are negative, i.e. AA is in int(\\mathfak{A})\n",
    "evals, evecs = np.linalg.eig(A_AA)\n",
    "assert (evals < 0).all()\n",
    "\n",
    "# parameters of Levy process\n",
    "b = 0*np.ones(d)\n",
    "Sigma = 2*np.eye(d)\n",
    "\n",
    "# finest grid possible\n",
    "T = 100\n",
    "N = 100001\n",
    "P = np.linspace(0, T, N)"
   ]
  },
  {
   "cell_type": "code",
   "execution_count": 23,
   "metadata": {},
   "outputs": [
    {
     "name": "stdout",
     "output_type": "stream",
     "text": [
      "AA = \n",
      "[array([[1.00]]), array([[2.00]])]\n",
      "AA_hat = \n",
      "[array([[0.80]]), array([[2.11]])]\n",
      "------------------------\n",
      "a = [0.00]\n",
      "a_hat = [-0.02]\n",
      "------------------------\n",
      "Sigma = \n",
      "[[2.00]]\n",
      "Sigma_hat = \n",
      "[[1.39]]\n"
     ]
    }
   ],
   "source": [
    "# symmetric compound poisson process\n",
    "rate = 10\n",
    "jump_F = scipy.stats.multivariate_normal(mean=np.zeros(d), cov=np.eye(d))\n",
    "\n",
    "np.random.seed(12345)\n",
    "a = b\n",
    "x0 = simulate_MCAR_stat_distr_compound_poisson(A_AA, a, Sigma, rate=rate, jump_F=jump_F)\n",
    "Y = simulate_MCAR_compound_poisson(P, A_AA, x0, a, Sigma, rate=rate, jump_F=jump_F, uniform=True)\n",
    "\n",
    "AA_hat, (a_hat, Sigma_hat) = estimate_MCAR(Y, p, P, P, jump_activity='finite')\n",
    "\n",
    "np.set_printoptions(precision=2, floatmode='fixed')\n",
    "print(f'AA = \\n{AA}')\n",
    "print(f'AA_hat = \\n{AA_hat}')\n",
    "print('------------------------')\n",
    "print(f'a = {a}')\n",
    "print(f'a_hat = {a_hat}')\n",
    "print('------------------------')\n",
    "print(f'Sigma = \\n{Sigma}')\n",
    "print(f'Sigma_hat = \\n{Sigma_hat}')"
   ]
  },
  {
   "cell_type": "code",
   "execution_count": 274,
   "metadata": {},
   "outputs": [
    {
     "name": "stdout",
     "output_type": "stream",
     "text": [
      "AA = \n",
      "[[1.00 0.00]\n",
      " [0.00 2.00]]\n",
      "AA_hat = \n",
      "[[ 0.94 -0.01]\n",
      " [-0.07  1.90]]\n",
      "------------------------\n",
      "a = [1.00 1.00]\n",
      "a_hat = [0.71 0.48]\n",
      "------------------------\n",
      "Sigma = \n",
      "[[2.00 0.00]\n",
      " [0.00 2.00]]\n",
      "Sigma_hat = \n",
      "[[1.99 0.00]\n",
      " [0.00 1.99]]\n"
     ]
    }
   ],
   "source": [
    "class point_jumps():\n",
    "    def __init__(self, d, jump_size):\n",
    "        self.d = d\n",
    "        self.jump_size = jump_size\n",
    "\n",
    "    def rvs(self, size):\n",
    "        return self.jump_size * np.ones((size, self.d))\n",
    "    \n",
    "# asymmetric compound poisson process \n",
    "rate = 2\n",
    "jump_size = 2\n",
    "jump_F = point_jumps(d, jump_size)\n",
    "\n",
    "np.random.seed(123)\n",
    "a = b - rate * jump_size * (np.abs(jump_size) < 1)\n",
    "x0 = simulate_MCAR_stat_distr_compound_poisson(A_AA, a, Sigma, rate=rate, jump_F=jump_F)\n",
    "Y = simulate_MCAR_compound_poisson(P, A_AA, x0, a, Sigma, rate=rate, jump_F=jump_F, uniform=True)\n",
    "\n",
    "AA_hat, (a_hat, Sigma_hat) = estimate_MCAR(Y, p, P, P, jump_activity='finite')\n",
    "\n",
    "np.set_printoptions(precision=2, floatmode='fixed')\n",
    "print(f'AA = \\n{AA[0]}')\n",
    "print(f'AA_hat = \\n{AA_hat[0]}')\n",
    "print('------------------------')\n",
    "print(f'a = {a}')\n",
    "print(f'a_hat = {a_hat}')\n",
    "print('------------------------')\n",
    "print(f'Sigma = \\n{Sigma}')\n",
    "print(f'Sigma_hat = \\n{Sigma_hat}')"
   ]
  },
  {
   "cell_type": "code",
   "execution_count": 275,
   "metadata": {},
   "outputs": [
    {
     "name": "stdout",
     "output_type": "stream",
     "text": [
      "AA = \n",
      "[[1.00 0.00]\n",
      " [0.00 2.00]]\n",
      "AA_hat = \n",
      "[[ 9.59e-01  1.08e-03]\n",
      " [-1.08e-02  1.92e+00]]\n",
      "------------------------\n",
      "b = [1.00 1.00]\n",
      "b_hat = [1.35 1.33]\n",
      "------------------------\n",
      "Sigma = \n",
      "[[2.00 0.00]\n",
      " [0.00 2.00]]\n",
      "Sigma_hat = \n",
      "[[ 2.21 -0.00]\n",
      " [-0.00  2.21]]\n"
     ]
    }
   ],
   "source": [
    "# symmetric Gamma increments\n",
    "jumps = partial(gamma_increments, shape=5, scale=5, d=d)\n",
    "\n",
    "np.random.seed(123)\n",
    "a = b\n",
    "x0 = simulate_MCAR_stat_distr_approx(A_AA, a, Sigma, jumps)\n",
    "Y = simulate_MCAR_approx(P, A_AA, x0, a, Sigma, jumps, uniform=True)\n",
    "\n",
    "AA_hat, (b_hat, Sigma_hat) = estimate_MCAR(Y, p, P, P, jump_activity = 'infinite')\n",
    "\n",
    "np.set_printoptions(precision=2, floatmode='fixed')\n",
    "print(f'AA = \\n{AA[0]}')\n",
    "print(f'AA_hat = \\n{AA_hat[0]}')\n",
    "print('------------------------')\n",
    "print(f'b = {b}')\n",
    "print(f'b_hat = {b_hat}')\n",
    "print('------------------------')\n",
    "print(f'Sigma = \\n{Sigma}')\n",
    "print(f'Sigma_hat = \\n{Sigma_hat}')"
   ]
  },
  {
   "cell_type": "code",
   "execution_count": 280,
   "metadata": {},
   "outputs": [
    {
     "name": "stdout",
     "output_type": "stream",
     "text": [
      "AA = \n",
      "[[1.00 0.00]\n",
      " [0.00 1.00]]\n",
      "AA_hat = \n",
      "[[1.21 0.53]\n",
      " [0.33 1.36]]\n",
      "------------------------\n",
      "b = [1.00 1.00]\n",
      "b_hat = [2.38 2.38]\n",
      "------------------------\n",
      "Sigma = \n",
      "[[2.00 0.00]\n",
      " [0.00 2.00]]\n",
      "Sigma_hat = \n",
      "[[ 2.01e+00 -1.60e-03]\n",
      " [-1.60e-03  2.02e+00]]\n"
     ]
    }
   ],
   "source": [
    "# asymmetric Gamma increments\n",
    "jumps = partial(asymm_gamma_increments, shape=1, scale=1, d=d)\n",
    "\n",
    "np.random.seed(123)\n",
    "a = b - (1 - np.exp(-1))\n",
    "x0 = simulate_MCAR_stat_distr_approx(A_AA, a, Sigma, jumps)\n",
    "Y = simulate_MCAR_approx(P, A_AA, x0, a, Sigma, jumps, uniform=True)\n",
    "\n",
    "AA_hat, (b_hat, Sigma_hat) = estimate_MCAR(Y, p, P, P, jump_activity='infinite')\n",
    "\n",
    "np.set_printoptions(precision=2, floatmode='fixed')\n",
    "print(f'AA = \\n{AA[0]}')\n",
    "print(f'AA_hat = \\n{AA_hat[0]}')\n",
    "print('------------------------')\n",
    "print(f'b = {b}')\n",
    "print(f'b_hat = {b_hat}')\n",
    "print('------------------------')\n",
    "print(f'Sigma = \\n{Sigma}')\n",
    "print(f'Sigma_hat = \\n{Sigma_hat}')"
   ]
  },
  {
   "cell_type": "code",
   "execution_count": null,
   "metadata": {},
   "outputs": [],
   "source": []
  }
 ],
 "metadata": {
  "kernelspec": {
   "display_name": ".venv",
   "language": "python",
   "name": "python3"
  },
  "language_info": {
   "codemirror_mode": {
    "name": "ipython",
    "version": 3
   },
   "file_extension": ".py",
   "mimetype": "text/x-python",
   "name": "python",
   "nbconvert_exporter": "python",
   "pygments_lexer": "ipython3",
   "version": "3.9.5"
  }
 },
 "nbformat": 4,
 "nbformat_minor": 2
}
