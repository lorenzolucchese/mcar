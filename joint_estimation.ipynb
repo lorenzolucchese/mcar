{
 "cells": [
  {
   "cell_type": "markdown",
   "metadata": {},
   "source": [
    "# Joint estimation of parameters\n",
    "\n",
    "Iterative procedure to jointly fit MCAR drift parameter $\\mathbf{A}$ and driving Levy parameters $(b, \\Sigma)$ from $\\mathbb{Y}_{\\mathcal{P}} = \\{\\mathbf{Y}_s,\\ s\\in\\mathcal{P}\\}$.\n",
    "\n",
    "We start by fixing $\\mathbf{\\hat{b}} = \\mathbf{0}$ (note the choice of $\\Sigma$ does not affect the estimation of $\\mathbf{A}$) and:\n",
    "1. Estimate $\\mathbf{\\hat{A}}$ using $\\mathbf{\\hat{b}}$;\n",
    "\n",
    "\n",
    "2. Recover the increments of the background driving Levy process $\\{\\Delta \\mathbf{L}_s (\\mathbf{\\hat{A}}),\\ s\\in\\mathcal{P}\\}$ using $\\mathbf{\\hat{A}}$ and estimate:\n",
    "    \n",
    "    \n",
    "    - $\\mathbf{\\mu} := \\mathbb{E}[\\mathbf{L}_1]$ from $\\{\\Delta \\mathbf{L}_s,\\ s\\in\\mathcal{P}\\}$;\n",
    "    \n",
    "    \n",
    "    - $\\Sigma$ and $\\displaystyle \\mathbf{f}:=\\int_{\\|\\mathbf{z}\\|>1} \\mathbf{z} F(d\\mathbf{z})$ from $\\{\\Delta \\mathbf{L}_s - \\hat{\\mu}\\Delta_s,\\ s\\in\\mathcal{P}\\}$ by applying (Gegler, 2011);\n",
    "    \n",
    "    \n",
    "    - set $\\mathbf{\\hat{b}} = \\mathbf{\\hat\\mu} - \\mathbf{\\hat{f}}$.\n",
    "\n",
    "\n",
    "3. Repeat 1 and 2 until convergence criterion is met.\n",
    "\n",
    "Note to estimate $\\mathbf{\\mu}$ we require $t$ (time horizon) to be quite large as this relies on the statistic $t^{-1} \\mathbf{L}_t$ (where $\\mathbf{L}_t$ is recovered...). Might be better to use a \"method of moments estimator\" relying on the mean of $\\mathbb{Y}$ and $\\mathbf{A}$ to estimate $\\mathbf{\\mu}$, e.g. in stationary OU process exploit the relationship $\\mathbb{E}[\\mathbf{Y}_s] = - \\mathbf{A}^{-1} \\mathbf{\\mu}$ and set $\\mathbf{\\hat{\\mu}} = - \\mathbf{\\hat{A}} \\bar{\\mathbb{Y}}_{\\mathcal{P}}$."
   ]
  },
  {
   "cell_type": "markdown",
   "metadata": {},
   "source": [
    "In the following,\n",
    "$$ \\mathbf{\\mu} = \\mathbb{E}[\\mathbf{L}_1] = \\mathbf{b} + \\int_{\\|\\mathbf{z}\\|>1} \\mathbf{z} F(d\\mathbf{z}) = \\mathbf{a} + \\int_{\\mathbb{R}^d} \\mathbf{z} F(d\\mathbf{z}),$$\n",
    "thus \n",
    "$$ \\mathbf{a} = \\mathbf{b} - \\int_{\\|\\mathbf{z}\\|\\leq 1} \\mathbf{z} F(d\\mathbf{z}).$$\n",
    "\n",
    "In the estimation we use \n",
    "And thus for finite activity Levy processes\n",
    "$$ \\mathbf{\\tilde{b}} = \\mathbf{\\mu} - \\int_{\\mathbb{R}^d} \\mathbf{z} F(d\\mathbf{z}) = \\mathbf{a} = \\mathbf{b} - \\int_{\\|\\mathbf{z}\\|\\leq 1} \\mathbf{z} F(d\\mathbf{z}). $$"
   ]
  },
  {
   "cell_type": "code",
   "execution_count": 1,
   "metadata": {},
   "outputs": [],
   "source": [
    "%load_ext autoreload\n",
    "%autoreload 2"
   ]
  },
  {
   "cell_type": "code",
   "execution_count": 2,
   "metadata": {},
   "outputs": [],
   "source": [
    "from simulate_mcar import MCAR_A, gamma_increments, asymm_gamma_increments, simulate_MCAR_stat_distr_approx, simulate_MCAR_approx, simulate_MCAR_compound_poisson, simulate_MCAR_stat_distr_compound_poisson\n",
    "from estimate_mcar import estimate_MCAR\n",
    "import numpy as np\n",
    "import scipy\n",
    "from functools import partial"
   ]
  },
  {
   "cell_type": "markdown",
   "metadata": {},
   "source": [
    "## OU process"
   ]
  },
  {
   "cell_type": "code",
   "execution_count": 248,
   "metadata": {},
   "outputs": [],
   "source": [
    "# OU parameters\n",
    "d = 2\n",
    "p = 1\n",
    "\n",
    "# build state space autoregressive matrix\n",
    "AA = [np.array([[1., 0.], [0., 2.]])]\n",
    "A_AA = MCAR_A(AA)\n",
    "\n",
    "# check eigenvalues are negative, i.e. AA is in int(\\mathfak{A})\n",
    "evals, evecs = np.linalg.eig(A_AA)\n",
    "assert (evals < 0).all()\n",
    "\n",
    "# parameters of Levy process\n",
    "b = 1*np.ones(d)\n",
    "Sigma = 2*np.eye(d)\n",
    "\n",
    "# finest grid possible\n",
    "T = 10\n",
    "N = 10001\n",
    "P = np.linspace(0, T, N)"
   ]
  },
  {
   "cell_type": "code",
   "execution_count": 246,
   "metadata": {},
   "outputs": [
    {
     "name": "stdout",
     "output_type": "stream",
     "text": [
      "AA = \n",
      "[[1.00 0.00]\n",
      " [0.00 2.00]]\n",
      "AA_hat = \n",
      "[[ 0.87 -0.33]\n",
      " [-0.32  2.36]]\n",
      "------------------------\n",
      "b_tilde = [1.00 1.00]\n",
      "b_tilde_hat = [0.56 1.46]\n",
      "------------------------\n",
      "Sigma = \n",
      "[[2.00 0.00]\n",
      " [0.00 2.00]]\n",
      "Sigma_hat = \n",
      "[[2.00e+00 1.68e-03]\n",
      " [1.68e-03 1.99e+00]]\n"
     ]
    }
   ],
   "source": [
    "# symmetric compound poisson process\n",
    "rate =10\n",
    "jump_F = scipy.stats.multivariate_normal(mean=np.zeros(d), cov=np.eye(d))\n",
    "\n",
    "np.random.seed(123)\n",
    "a = b\n",
    "x0 = simulate_MCAR_stat_distr_compound_poisson(A_AA, a, Sigma, rate=rate, jump_F=jump_F)\n",
    "Y = simulate_MCAR_compound_poisson(P, A_AA, x0, a, Sigma, rate=rate, jump_F=jump_F, uniform=True)\n",
    "\n",
    "b_tilde = a\n",
    "AA_hat, (b_tilde_hat, Sigma_hat) = estimate_MCAR(Y, p, P, P, jump_activity='finite')\n",
    "\n",
    "np.set_printoptions(precision=2, floatmode='fixed')\n",
    "print(f'AA = \\n{AA[0]}')\n",
    "print(f'AA_hat = \\n{AA_hat[0]}')\n",
    "print('------------------------')\n",
    "print(f'b_tilde = {b_tilde}')\n",
    "print(f'b_tilde_hat = {b_tilde_hat}')\n",
    "print('------------------------')\n",
    "print(f'Sigma = \\n{Sigma}')\n",
    "print(f'Sigma_hat = \\n{Sigma_hat}')"
   ]
  },
  {
   "cell_type": "code",
   "execution_count": 252,
   "metadata": {},
   "outputs": [
    {
     "name": "stdout",
     "output_type": "stream",
     "text": [
      "AA = \n",
      "[[1.00 0.00]\n",
      " [0.00 2.00]]\n",
      "AA_hat = \n",
      "[[ 1.36 -0.00]\n",
      " [-0.36  2.16]]\n",
      "------------------------\n",
      "b_tilde = [1.00 1.00]\n",
      "b_tilde_hat = [2.99 0.28]\n",
      "------------------------\n",
      "Sigma = \n",
      "[[2.00 0.00]\n",
      " [0.00 2.00]]\n",
      "Sigma_hat = \n",
      "[[ 2.04 -0.04]\n",
      " [-0.04  2.00]]\n"
     ]
    }
   ],
   "source": [
    "class point_jumps():\n",
    "    def __init__(self, d, jump_size):\n",
    "        self.d = d\n",
    "        self.jump_size = jump_size\n",
    "\n",
    "    def rvs(self, size):\n",
    "        return self.jump_size * np.ones((size, self.d))\n",
    "    \n",
    "# asymmetric compound poisson process \n",
    "rate = 2\n",
    "jump_size = 2\n",
    "jump_F = point_jumps(d, jump_size)\n",
    "\n",
    "np.random.seed(123)\n",
    "a = b - rate * jump_size * (np.abs(jump_size) < 1)\n",
    "x0 = simulate_MCAR_stat_distr_compound_poisson(A_AA, a, Sigma, rate=rate, jump_F=jump_F)\n",
    "Y = simulate_MCAR_compound_poisson(P, A_AA, x0, a, Sigma, rate=rate, jump_F=jump_F, uniform=True)\n",
    "\n",
    "b_tilde = a\n",
    "AA_hat, (b_tilde_hat, Sigma_hat) = estimate_MCAR(Y, p, P, P, jump_activity='finite')\n",
    "\n",
    "np.set_printoptions(precision=2, floatmode='fixed')\n",
    "print(f'AA = \\n{AA[0]}')\n",
    "print(f'AA_hat = \\n{AA_hat[0]}')\n",
    "print('------------------------')\n",
    "print(f'b_tilde = {b_tilde}')\n",
    "print(f'b_tilde_hat = {b_tilde_hat}')\n",
    "print('------------------------')\n",
    "print(f'Sigma = \\n{Sigma}')\n",
    "print(f'Sigma_hat = \\n{Sigma_hat}')"
   ]
  },
  {
   "cell_type": "code",
   "execution_count": 253,
   "metadata": {},
   "outputs": [
    {
     "name": "stdout",
     "output_type": "stream",
     "text": [
      "AA = \n",
      "[[1.00 0.00]\n",
      " [0.00 2.00]]\n",
      "AA_hat = \n",
      "[[ 0.92  0.14]\n",
      " [-0.06  2.13]]\n",
      "------------------------\n",
      "b = [1.00 1.00]\n",
      "b_hat = [2.53 1.83]\n",
      "------------------------\n",
      "Sigma = \n",
      "[[2.00 0.00]\n",
      " [0.00 2.00]]\n",
      "Sigma_hat = \n",
      "[[2.17 0.02]\n",
      " [0.02 2.13]]\n"
     ]
    }
   ],
   "source": [
    "# symmetric Gamma increments\n",
    "jumps = partial(gamma_increments, shape=5, scale=5, d=d)\n",
    "\n",
    "np.random.seed(123)\n",
    "a = b\n",
    "x0 = simulate_MCAR_stat_distr_approx(A_AA, a, Sigma, jumps)\n",
    "Y = simulate_MCAR_approx(P, A_AA, x0, a, Sigma, jumps, uniform=True)\n",
    "\n",
    "AA_hat, (b_hat, Sigma_hat) = estimate_MCAR(Y, p, P, P, jump_activity = 'infinite')\n",
    "\n",
    "np.set_printoptions(precision=2, floatmode='fixed')\n",
    "print(f'AA = \\n{AA[0]}')\n",
    "print(f'AA_hat = \\n{AA_hat[0]}')\n",
    "print('------------------------')\n",
    "print(f'b = {b}')\n",
    "print(f'b_hat = {b_hat}')\n",
    "print('------------------------')\n",
    "print(f'Sigma = \\n{Sigma}')\n",
    "print(f'Sigma_hat = \\n{Sigma_hat}')"
   ]
  },
  {
   "cell_type": "code",
   "execution_count": 260,
   "metadata": {},
   "outputs": [
    {
     "name": "stdout",
     "output_type": "stream",
     "text": [
      "AA = \n",
      "[[1.00 0.00]\n",
      " [0.00 2.00]]\n",
      "AA_hat = \n",
      "[[0.77 0.05]\n",
      " [0.12 2.94]]\n",
      "------------------------\n",
      "b = [1.00 1.00]\n",
      "b_hat = [1.08 1.10]\n",
      "------------------------\n",
      "Sigma = \n",
      "[[2.00 0.00]\n",
      " [0.00 2.00]]\n",
      "Sigma_hat = \n",
      "[[2.03 0.05]\n",
      " [0.05 1.97]]\n"
     ]
    }
   ],
   "source": [
    "# asymmetric Gamma increments\n",
    "jumps = partial(asymm_gamma_increments, shape=1, scale=1, d=d)\n",
    "\n",
    "np.random.seed(123)\n",
    "a = b - (1 - np.exp(-1))\n",
    "x0 = simulate_MCAR_stat_distr_approx(A_AA, a, Sigma, jumps)\n",
    "Y = simulate_MCAR_approx(P, A_AA, x0, a, Sigma, jumps, uniform=True)\n",
    "\n",
    "AA_hat, (b_hat, Sigma_hat) = estimate_MCAR(Y, p, P, P, jump_activity='infinite')\n",
    "\n",
    "np.set_printoptions(precision=2, floatmode='fixed')\n",
    "print(f'AA = \\n{AA[0]}')\n",
    "print(f'AA_hat = \\n{AA_hat[0]}')\n",
    "print('------------------------')\n",
    "print(f'b = {b}')\n",
    "print(f'b_hat = {b_hat}')\n",
    "print('------------------------')\n",
    "print(f'Sigma = \\n{Sigma}')\n",
    "print(f'Sigma_hat = \\n{Sigma_hat}')"
   ]
  },
  {
   "cell_type": "markdown",
   "metadata": {},
   "source": []
  }
 ],
 "metadata": {
  "kernelspec": {
   "display_name": ".venv",
   "language": "python",
   "name": "python3"
  },
  "language_info": {
   "codemirror_mode": {
    "name": "ipython",
    "version": 3
   },
   "file_extension": ".py",
   "mimetype": "text/x-python",
   "name": "python",
   "nbconvert_exporter": "python",
   "pygments_lexer": "ipython3",
   "version": "3.11.4"
  }
 },
 "nbformat": 4,
 "nbformat_minor": 2
}
